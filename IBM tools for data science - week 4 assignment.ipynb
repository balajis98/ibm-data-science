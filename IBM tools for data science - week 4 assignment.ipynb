{
    "cells": [
        {
            "metadata": {
                "collapsed": true
            },
            "cell_type": "markdown",
            "source": "# My Jupyter Notebook on IBM Watson Studio"
        },
        {
            "metadata": {},
            "cell_type": "markdown",
            "source": "**BALAJI**\n\nstudent"
        },
        {
            "metadata": {},
            "cell_type": "markdown",
            "source": "*I am interested in data science for solving. real world problems and finding solutions to discover the insight of various fields.*"
        },
        {
            "metadata": {},
            "cell_type": "markdown",
            "source": "### The below code is supposed to find a number is odd/even"
        },
        {
            "metadata": {},
            "cell_type": "code",
            "source": "number=int(input())\nif number%2!=0:\n    print 'odd'\nelse:\n    print 'even'",
            "execution_count": null,
            "outputs": []
        },
        {
            "metadata": {},
            "cell_type": "markdown",
            "source": "\n| Sl.No  | char names     |\n|:-----: | :------------- |\n|1.      | joey           |\n|2.      | ross           |\n|3.      | chandler       |\n|4.      | monica         |\n|5.      | rachel         |\n|6.      | phebes         |\n\n******\n> The above characters belong to the cast of friends series which is a highly rated comedy series available in OTT platforms like netflix with 10 seasons, each season containing 24 episodes."
        }
    ],
    "metadata": {
        "kernelspec": {
            "name": "python3",
            "display_name": "Python 3.6",
            "language": "python"
        },
        "language_info": {
            "name": "python",
            "version": "3.6.9",
            "mimetype": "text/x-python",
            "codemirror_mode": {
                "name": "ipython",
                "version": 3
            },
            "pygments_lexer": "ipython3",
            "nbconvert_exporter": "python",
            "file_extension": ".py"
        }
    },
    "nbformat": 4,
    "nbformat_minor": 1
}